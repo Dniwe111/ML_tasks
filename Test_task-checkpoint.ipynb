{
 "cells": [
  {
   "cell_type": "code",
   "execution_count": 1,
   "metadata": {},
   "outputs": [],
   "source": [
    "import numpy as np"
   ]
  },
  {
   "cell_type": "code",
   "execution_count": 2,
   "metadata": {},
   "outputs": [],
   "source": [
    "import pandas as pd\n",
    "import matplotlib.pyplot as plt"
   ]
  },
  {
   "cell_type": "markdown",
   "metadata": {},
   "source": [
    "numpy tasks"
   ]
  },
  {
   "cell_type": "code",
   "execution_count": 320,
   "metadata": {},
   "outputs": [],
   "source": [
    "arr = np.random.randint(-9, 10, (10,10))"
   ]
  },
  {
   "cell_type": "code",
   "execution_count": 321,
   "metadata": {
    "scrolled": true
   },
   "outputs": [
    {
     "name": "stdout",
     "output_type": "stream",
     "text": [
      "[[-2 -3 -5 -6 -5 -8 -2 -2 -7 -3]\n",
      " [ 0 -4  8  5  5  1 -3 -9  7  0]\n",
      " [ 8  7 -5 -6  2  7  5  7 -6  2]\n",
      " [-3  6  5 -2 -8  4 -3  3 -6 -5]\n",
      " [-7  9 -9  9 -4 -2  7 -7 -8  2]\n",
      " [-2  9 -6  0  9  6  2 -5 -9 -4]\n",
      " [-2 -5 -1  0 -9  5  6  9  0  4]\n",
      " [ 9  1 -6 -4  9 -1  6 -3  7  9]\n",
      " [ 7 -4 -8 -7 -3 -5 -5 -9 -4  2]\n",
      " [-4  9 -4 -6 -7 -5 -8 -2 -5 -9]]\n"
     ]
    },
    {
     "data": {
      "image/png": "[encoded data removed]",
      "text/plain": [
       "<Figure size 432x288 with 1 Axes>"
      ]
     },
     "metadata": {
      "needs_background": "light"
     },
     "output_type": "display_data"
    }
   ],
   "source": [
    "print(arr)\n",
    "n, bin, patches = plt.hist(arr.ravel())\n",
    "plt.show()"
   ]
  },
  {
   "cell_type": "code",
   "execution_count": 322,
   "metadata": {
    "scrolled": true
   },
   "outputs": [],
   "source": [
    "np.place(arr,np.logical_and(arr>-3, arr<5), [1])"
   ]
  },
  {
   "cell_type": "code",
   "execution_count": 323,
   "metadata": {},
   "outputs": [
    {
     "name": "stdout",
     "output_type": "stream",
     "text": [
      "[[ 1 -3 -5 -6 -5 -8  1  1 -7 -3]\n",
      " [ 1 -4  8  5  5  1 -3 -9  7  1]\n",
      " [ 8  7 -5 -6  1  7  5  7 -6  1]\n",
      " [-3  6  5  1 -8  1 -3  1 -6 -5]\n",
      " [-7  9 -9  9 -4  1  7 -7 -8  1]\n",
      " [ 1  9 -6  1  9  6  1 -5 -9 -4]\n",
      " [ 1 -5  1  1 -9  5  6  9  1  1]\n",
      " [ 9  1 -6 -4  9  1  6 -3  7  9]\n",
      " [ 7 -4 -8 -7 -3 -5 -5 -9 -4  1]\n",
      " [-4  9 -4 -6 -7 -5 -8  1 -5 -9]]\n"
     ]
    },
    {
     "data": {
      "image/png": "[encoded data removed]",
      "text/plain": [
       "<Figure size 432x288 with 1 Axes>"
      ]
     },
     "metadata": {
      "needs_background": "light"
     },
     "output_type": "display_data"
    }
   ],
   "source": [
    "print(arr)\n",
    "n, bin, patches = plt.hist(arr.ravel())\n",
    "plt.show()"
   ]
  },
  {
   "cell_type": "code",
   "execution_count": 209,
   "metadata": {},
   "outputs": [
    {
     "data": {
      "image/png": "[encoded data removed]",
      "text/plain": [
       "<Figure size 432x288 with 1 Axes>"
      ]
     },
     "metadata": {
      "needs_background": "light"
     },
     "output_type": "display_data"
    }
   ],
   "source": [
    "matrix = np.array([2, 1, 0, 1]).reshape((2, 2))\n",
    "vector = np.array([1, 1])\n",
    "origin = [0], [0]\n",
    "\n",
    "plt.quiver(*origin, vector[0], vector[1], scale = 10)\n",
    "plt.quiver(*origin, matrix[0][0], matrix[1][0], scale = 10)\n",
    "plt.xlim(-5, 5)\n",
    "plt.ylim(-5, 5)\n",
    "plt.show()"
   ]
  },
  {
   "cell_type": "code",
   "execution_count": 266,
   "metadata": {},
   "outputs": [],
   "source": [
    "ans = np.dot(vector,matrix)/(np.linalg.norm(vector)*np.linalg.norm(matrix, axis=0))"
   ]
  },
  {
   "cell_type": "code",
   "execution_count": 267,
   "metadata": {
    "scrolled": true
   },
   "outputs": [
    {
     "name": "stdout",
     "output_type": "stream",
     "text": [
      "0\n"
     ]
    }
   ],
   "source": [
    "print(np.argmin(ans))"
   ]
  },
  {
   "cell_type": "markdown",
   "metadata": {},
   "source": [
    "Минимальное косинусное рассояние = 1 - cos 0°; минимальный угол - 0°"
   ]
  },
  {
   "cell_type": "code",
   "execution_count": 166,
   "metadata": {},
   "outputs": [
    {
     "data": {
      "image/png": "[encoded data removed]",
      "text/plain": [
       "<Figure size 432x288 with 1 Axes>"
      ]
     },
     "metadata": {
      "needs_background": "light"
     },
     "output_type": "display_data"
    }
   ],
   "source": [
    "n = 1000\n",
    "t = np.linspace(0, 6, n)\n",
    "T = t[1] - t[0]\n",
    "\n",
    "x1 = np.where(np.logical_and(t>=4, t<=5), 1, 0)\n",
    "x2 = np.where(np.logical_and(t>=1, t<=2), 1, 0)\n",
    "y = np.convolve(x1, x2, mode='full') * T\n",
    "ty = np.linspace(0, 6, n*2-1)\n",
    "fg, ax = plt.subplots()\n",
    "ax.plot(t, x1)\n",
    "ax.plot(t, x2)\n",
    "ax.plot(ty, y)\n",
    "ax.grid(True)\n",
    "\n",
    "plt.show()"
   ]
  },
  {
   "cell_type": "markdown",
   "metadata": {},
   "source": [
    "pandas tasks"
   ]
  },
  {
   "cell_type": "code",
   "execution_count": 33,
   "metadata": {},
   "outputs": [],
   "source": [
    "frame = df = pd.read_csv('train.csv', sep=',')"
   ]
  },
  {
   "cell_type": "code",
   "execution_count": 34,
   "metadata": {},
   "outputs": [
    {
     "name": "stdout",
     "output_type": "stream",
     "text": [
      "   PassengerId  Survived  Pclass  \\\n",
      "0            1         0       3   \n",
      "1            2         1       1   \n",
      "2            3         1       3   \n",
      "3            4         1       1   \n",
      "4            5         0       3   \n",
      "\n",
      "                                                Name     Sex   Age  SibSp  \\\n",
      "0                            Braund, Mr. Owen Harris    male  22.0      1   \n",
      "1  Cumings, Mrs. John Bradley (Florence Briggs Th...  female  38.0      1   \n",
      "2                             Heikkinen, Miss. Laina  female  26.0      0   \n",
      "3       Futrelle, Mrs. Jacques Heath (Lily May Peel)  female  35.0      1   \n",
      "4                           Allen, Mr. William Henry    male  35.0      0   \n",
      "\n",
      "   Parch            Ticket     Fare Cabin Embarked  \n",
      "0      0         A/5 21171   7.2500   NaN        S  \n",
      "1      0          PC 17599  71.2833   C85        C  \n",
      "2      0  STON/O2. 3101282   7.9250   NaN        S  \n",
      "3      0            113803  53.1000  C123        S  \n",
      "4      0            373450   8.0500   NaN        S  \n"
     ]
    }
   ],
   "source": [
    "print(frame.head())"
   ]
  },
  {
   "cell_type": "code",
   "execution_count": 41,
   "metadata": {},
   "outputs": [
    {
     "name": "stdout",
     "output_type": "stream",
     "text": [
      "Sex\n",
      "female    314\n",
      "male      577\n",
      "Name: PassengerId, dtype: int64\n"
     ]
    }
   ],
   "source": [
    "print(frame.groupby(['Sex'])['PassengerId'].count())"
   ]
  },
  {
   "cell_type": "markdown",
   "metadata": {},
   "source": [
    "Мужчин почти в 2 раза больше"
   ]
  },
  {
   "cell_type": "code",
   "execution_count": 59,
   "metadata": {},
   "outputs": [
    {
     "name": "stdout",
     "output_type": "stream",
     "text": [
      "32.2042079685746\n"
     ]
    }
   ],
   "source": [
    "print(frame.Fare.mean())"
   ]
  },
  {
   "cell_type": "code",
   "execution_count": 61,
   "metadata": {},
   "outputs": [
    {
     "name": "stdout",
     "output_type": "stream",
     "text": [
      "31.0\n"
     ]
    }
   ],
   "source": [
    "print(np.percentile(frame.Fare, 75))\n",
    "frame['price'] = frame.Fare > np.percentile(frame.Fare, 75)"
   ]
  },
  {
   "cell_type": "code",
   "execution_count": 63,
   "metadata": {},
   "outputs": [
    {
     "name": "stdout",
     "output_type": "stream",
     "text": [
      "price  Survived\n",
      "False  0           456\n",
      "       1           213\n",
      "True   0            93\n",
      "       1           129\n",
      "Name: PassengerId, dtype: int64\n"
     ]
    }
   ],
   "source": [
    "print(frame.groupby(['price','Survived'])['PassengerId'].count())"
   ]
  },
  {
   "cell_type": "markdown",
   "metadata": {},
   "source": [
    "В дорогих номерах выживает больше людей"
   ]
  },
  {
   "cell_type": "markdown",
   "metadata": {},
   "source": [
    "matplotlib tasks"
   ]
  },
  {
   "cell_type": "code",
   "execution_count": 168,
   "metadata": {},
   "outputs": [
    {
     "data": {
      "image/png": "[encoded data removed]",
      "text/plain": [
       "<Figure size 432x288 with 1 Axes>"
      ]
     },
     "metadata": {
      "needs_background": "light"
     },
     "output_type": "display_data"
    }
   ],
   "source": [
    "arr1 = np.random.randint(1, 20, 200)\n",
    "n, bin, patches = plt.hist(arr1)\n",
    "plt.show()"
   ]
  },
  {
   "cell_type": "code",
   "execution_count": 349,
   "metadata": {},
   "outputs": [
    {
     "data": {
      "image/png": "[encoded data removed]",
      "text/plain": [
       "<Figure size 432x288 with 1 Axes>"
      ]
     },
     "metadata": {
      "needs_background": "light"
     },
     "output_type": "display_data"
    }
   ],
   "source": [
    "arr2 = np.random.normal(10, 3, 200)\n",
    "n, bin, patches = plt.hist(arr2)\n",
    "plt.show()"
   ]
  },
  {
   "cell_type": "code",
   "execution_count": 350,
   "metadata": {},
   "outputs": [],
   "source": [
    "def randomize (target, size, disp = 1):\n",
    "    a = np.zeros(size)\n",
    "    for i in range(size):\n",
    "        s=1.5\n",
    "        while s>1 or s==0 :\n",
    "            b = np.random.uniform(-1, 1, 2)\n",
    "            s = b[0]**2+b[1]**2 \n",
    "        a[i]+=(b[0]*((-2*np.log(s)/s)**0.5)*disp+target)\n",
    "    return a"
   ]
  },
  {
   "cell_type": "code",
   "execution_count": 351,
   "metadata": {},
   "outputs": [
    {
     "data": {
      "image/png": "[encoded data removed]",
      "text/plain": [
       "<Figure size 432x288 with 1 Axes>"
      ]
     },
     "metadata": {
      "needs_background": "light"
     },
     "output_type": "display_data"
    }
   ],
   "source": [
    "arr3 = randomize(10, 200, 3)\n",
    "n, bin, patches = plt.hist(arr3)\n",
    "plt.show()"
   ]
  },
  {
   "cell_type": "code",
   "execution_count": 172,
   "metadata": {},
   "outputs": [
    {
     "data": {
      "image/png": "[encoded data removed]",
      "text/plain": [
       "<Figure size 432x288 with 1 Axes>"
      ]
     },
     "metadata": {
      "needs_background": "light"
     },
     "output_type": "display_data"
    }
   ],
   "source": [
    "chem_chem = np.random.normal(80, 6, 30)\n",
    "chem_math = np.random.normal(65, 6, 30)\n",
    "phys_chem = np.random.normal(70, 6, 30)\n",
    "phys_math = np.random.normal(80, 6, 30)\n",
    "gum_chem = np.random.normal(65, 6, 30)\n",
    "gum_math = np.random.normal(60, 6, 30)\n",
    "fig, graph = plt.subplots()\n",
    "graph.scatter(chem_chem, chem_math, c = 'g')\n",
    "graph.scatter(phys_chem, phys_math, c = 'b')\n",
    "graph.scatter(gum_chem, gum_math, c = 'r')\n",
    "graph.grid(True)\n",
    "plt.show()"
   ]
  },
  {
   "cell_type": "code",
   "execution_count": null,
   "metadata": {},
   "outputs": [],
   "source": []
  }
 ],
 "metadata": {
  "kernelspec": {
   "display_name": "Python 3",
   "language": "python",
   "name": "python3"
  },
  "language_info": {
   "codemirror_mode": {
    "name": "ipython",
    "version": 3
   },
   "file_extension": ".py",
   "mimetype": "text/x-python",
   "name": "python",
   "nbconvert_exporter": "python",
   "pygments_lexer": "ipython3",
   "version": "3.8.5"
  }
 },
 "nbformat": 4,
 "nbformat_minor": 4
}
